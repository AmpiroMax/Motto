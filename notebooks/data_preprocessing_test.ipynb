{
 "cells": [
  {
   "cell_type": "code",
   "execution_count": 1,
   "metadata": {},
   "outputs": [],
   "source": [
    "import torch\n",
    "import json\n",
    "from torch.utils.data import Dataset, DataLoader\n",
    "from transformers import T5ForConditionalGeneration,T5Tokenizer\n",
    "from transformers import GPT2LMHeadModel, GPT2Tokenizer\n",
    "\n",
    "from torch.utils.tensorboard import SummaryWriter\n",
    "\n",
    "from tqdm.auto import tqdm\n",
    "import numpy as np"
   ]
  },
  {
   "cell_type": "code",
   "execution_count": 2,
   "metadata": {},
   "outputs": [],
   "source": [
    "DEVICE = \"cuda\" if torch.cuda.is_available() else \"cpu\""
   ]
  },
  {
   "cell_type": "code",
   "execution_count": 3,
   "metadata": {},
   "outputs": [],
   "source": [
    "writer = SummaryWriter()"
   ]
  },
  {
   "cell_type": "code",
   "execution_count": 4,
   "metadata": {},
   "outputs": [],
   "source": [
    "class NamesDataset(Dataset):\n",
    "    def __init__(\n",
    "        self,\n",
    "        tokenizer: T5Tokenizer,\n",
    "        data_path: str,\n",
    "        max_length: int = 20,\n",
    "        truncation: bool = True\n",
    "    ) -> None:\n",
    "        self.tokenizer = tokenizer\n",
    "        self.truncation = truncation\n",
    "        self.max_length = max_length\n",
    "        \n",
    "        with open(data_path, encoding=\"utf-8\") as json_data:\n",
    "            self.data = json.load(json_data)\n",
    "        \n",
    "    def __getitem__(self, index):\n",
    "        name = self.data[index][\"prompt\"]\n",
    "        body = self.data[index][\"answer\"]\n",
    "        \n",
    "        tokens = self.tokenizer(\n",
    "            name,\n",
    "            return_tensors='pt',\n",
    "            padding=\"max_length\",\n",
    "            max_length=self.max_length,\n",
    "            truncation=self.truncation\n",
    "        )\n",
    "        \n",
    "        labels = self.tokenizer(\n",
    "            body,\n",
    "            return_tensors='pt',\n",
    "            padding=\"max_length\",\n",
    "            max_length=self.max_length,\n",
    "            truncation=self.truncation\n",
    "        ).input_ids\n",
    "        \n",
    "        labels = labels.masked_fill_(labels == self.tokenizer.pad_token_id, -100) \n",
    "        \n",
    "        return name, body, tokens.input_ids[0], tokens.attention_mask[0], labels[0]\n",
    "    \n",
    "    def __len__(self):\n",
    "        return  len(self.data)"
   ]
  },
  {
   "cell_type": "code",
   "execution_count": 5,
   "metadata": {},
   "outputs": [],
   "source": [
    "training_config = {\n",
    "    \"desc\": \"\",\n",
    "    \"lr\": 1e-3,\n",
    "    \"epoch_num\": 10,\n",
    "    \"opt\": \"Adam\",\n",
    "    \"batch_size\": 5,\n",
    "    \"lr_decay\": 0.8,\n",
    "    \"model_type\": \"T5\",\n",
    "    \"model_size\": \"base\"\n",
    "}\n",
    "\n",
    "if training_config[\"model_size\"] not in [\"large\", \"base\", \"small\"]:\n",
    "    raise ValueError(\"Wrong model size\")\n",
    "\n",
    "if training_config[\"model_type\"] not in [\"T5\", \"gpt\"]:\n",
    "    raise ValueError(\"Wrong model type\")"
   ]
  },
  {
   "cell_type": "code",
   "execution_count": 6,
   "metadata": {},
   "outputs": [],
   "source": [
    "if training_config[\"model_type\"] == \"T5\":\n",
    "    model_name = \"sberbank-ai/ruT5-\" + training_config[\"model_size\"]\n",
    "    model = T5ForConditionalGeneration.from_pretrained(model_name).to(DEVICE)\n",
    "    tokenizer = T5Tokenizer.from_pretrained(model_name)\n",
    "\n",
    "if training_config[\"model_type\"] == \"gpt\":\n",
    "    model_name = \"sberbank-ai/rugpt3\"+ training_config[\"model_size\"] + \"_based_on_gpt2\" \n",
    "    model = GPT2LMHeadModel.from_pretrained(model_name).to(DEVICE)\n",
    "    tokenizer = GPT2Tokenizer.from_pretrained(model_name, pad_token=\"<|PAD|>\")"
   ]
  },
  {
   "cell_type": "code",
   "execution_count": 7,
   "metadata": {},
   "outputs": [],
   "source": [
    "dataset = NamesDataset(\n",
    "    tokenizer=tokenizer,\n",
    "    data_path=\"../data/dataset_v02.json\",\n",
    "    max_length=40\n",
    ")\n",
    "\n",
    "dataloader = DataLoader(dataset, batch_size=training_config[\"batch_size\"], shuffle=True)"
   ]
  },
  {
   "cell_type": "code",
   "execution_count": 8,
   "metadata": {},
   "outputs": [],
   "source": [
    "def test_work(name = None, beams = 1):\n",
    "    _name, _, tokens_ids, tokens_attention, _ = dataset[np.random.randint(len(dataset))]\n",
    "    \n",
    "    if name is None:\n",
    "        name = _name\n",
    "    else:\n",
    "        tokens = tokenizer(name, return_tensors='pt', padding=\"max_length\", max_length = 40, truncation=True).to(DEVICE)\n",
    "        tokens_ids = tokens.input_ids\n",
    "        tokens_attention = tokens.attention_mask\n",
    "\n",
    "    print(name)\n",
    "    \n",
    "    model.eval()\n",
    "    output=model.generate(\n",
    "        input_ids=tokens_ids.to(DEVICE).view(1, -1),\n",
    "        attention_mask=tokens_attention.to(DEVICE).view(1, -1),\n",
    "        num_beams=beams,\n",
    "        num_return_sequences=beams,\n",
    "        max_new_tokens = 40\n",
    "    )\n",
    "    \n",
    "    phrase = \"\\n\".join(tokenizer.batch_decode(output[:, :]))\n",
    "    print(phrase)"
   ]
  },
  {
   "cell_type": "code",
   "execution_count": 9,
   "metadata": {},
   "outputs": [
    {
     "name": "stdout",
     "output_type": "stream",
     "text": [
      "Оля\n",
      "<pad><extra_id_0> ) ) ) ) )))))<extra_id_26> )<extra_id_27>)  Оддддддддддддддддддд\n",
      "<pad><extra_id_0> ) ) ) ) )))))<extra_id_26> )<extra_id_27>)  Одддддддддддддддддд.\n",
      "<pad><extra_id_0> ) ) ) ) )))))<extra_id_26> )<extra_id_27>)  Оддддддддддддддддддда\n"
     ]
    }
   ],
   "source": [
    "test_work(\"Оля\", beams=3)"
   ]
  },
  {
   "cell_type": "code",
   "execution_count": 10,
   "metadata": {},
   "outputs": [],
   "source": [
    "epoch_num = training_config[\"epoch_num\"]\n",
    "model.train()\n",
    "opt = torch.optim.Adam(\n",
    "    model.parameters(),\n",
    "    lr=training_config[\"lr\"]\n",
    ")\n",
    "\n",
    "lambda1 = lambda epoch: training_config[\"lr_decay\"] ** epoch\n",
    "scheduler = torch.optim.lr_scheduler.LambdaLR(opt, lr_lambda=lambda1)"
   ]
  },
  {
   "cell_type": "code",
   "execution_count": 11,
   "metadata": {},
   "outputs": [
    {
     "data": {
      "application/vnd.jupyter.widget-view+json": {
       "model_id": "69960427d1794d578ef9f12a2ac0c1f1",
       "version_major": 2,
       "version_minor": 0
      },
      "text/plain": [
       "  0%|          | 0/10 [00:00<?, ?it/s]"
      ]
     },
     "metadata": {},
     "output_type": "display_data"
    }
   ],
   "source": [
    "iter_num = 0 \n",
    "model.train()\n",
    "for epoch in tqdm(range(epoch_num)):\n",
    "    for _, _, tokens_ids, tokens_attention, labels in dataloader:\n",
    "        model.zero_grad()\n",
    "        \n",
    "        output=model(\n",
    "            input_ids=tokens_ids.to(DEVICE),\n",
    "            attention_mask=tokens_attention.to(DEVICE),\n",
    "            labels=labels.to(DEVICE)\n",
    "        )\n",
    "        \n",
    "        output[\"loss\"].backward()\n",
    "        \n",
    "        loss_value = output.loss.detach().cpu().item()\n",
    "        writer.add_scalar(f\"Loss {training_config=}\", loss_value, iter_num)\n",
    "        opt.step()\n",
    "        iter_num += 1\n",
    "    \n",
    "    scheduler.step()"
   ]
  },
  {
   "cell_type": "code",
   "execution_count": 12,
   "metadata": {},
   "outputs": [
    {
     "name": "stdout",
     "output_type": "stream",
     "text": [
      "Оля\n",
      "<pad> Если ваше имя Оля — тут никак без алкоголя.</s><pad><pad>\n",
      "<pad> И всегда, поверьте, Вовы - сексуально не готовы.</s>\n",
      "<pad> Если ваше имя Оля — поищи себе другого.</s><pad>\n"
     ]
    }
   ],
   "source": [
    "test_work(\"Оля\", beams=3)"
   ]
  }
 ],
 "metadata": {
  "kernelspec": {
   "display_name": ".venv",
   "language": "python",
   "name": "python3"
  },
  "language_info": {
   "codemirror_mode": {
    "name": "ipython",
    "version": 3
   },
   "file_extension": ".py",
   "mimetype": "text/x-python",
   "name": "python",
   "nbconvert_exporter": "python",
   "pygments_lexer": "ipython3",
   "version": "3.10.7"
  },
  "orig_nbformat": 4
 },
 "nbformat": 4,
 "nbformat_minor": 2
}
