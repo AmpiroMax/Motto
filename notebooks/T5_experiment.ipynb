{
 "cells": [
  {
   "cell_type": "code",
   "execution_count": 104,
   "metadata": {},
   "outputs": [],
   "source": [
    "import transformers\n",
    "import torch\n",
    "from transformers import pipeline"
   ]
  },
  {
   "cell_type": "code",
   "execution_count": 109,
   "metadata": {},
   "outputs": [],
   "source": [
    "generator = pipeline(\"text2text-generation\", model=\"sberbank-ai/ruT5-large\")\n",
    "# generator1 = pipeline(\"text-generation\", model=\"sberbank-ai/rugpt3large_based_on_gpt2\")"
   ]
  },
  {
   "cell_type": "code",
   "execution_count": 110,
   "metadata": {},
   "outputs": [
    {
     "data": {
      "text/plain": [
       "[{'generated_text': 'в дежурную и у дежурную по школе и у дежурную'}]"
      ]
     },
     "execution_count": 110,
     "metadata": {},
     "output_type": "execute_result"
    }
   ],
   "source": [
    "generator(\n",
    "    \"Расскажи анекдот\"\n",
    ")"
   ]
  },
  {
   "cell_type": "code",
   "execution_count": 103,
   "metadata": {},
   "outputs": [
    {
     "name": "stderr",
     "output_type": "stream",
     "text": [
      "Setting `pad_token_id` to `eos_token_id`:50256 for open-end generation.\n"
     ]
    },
    {
     "data": {
      "text/plain": [
       "[{'generated_text': 'Частушки сектора газа.\\n\\n—\\xa0Что?\\n\\n—\\xa0Да так, ничего.\\n\\n—\\xa0А-а-а'},\n",
       " {'generated_text': 'Частушки сектора газа.\\n\\n—\\xa0Что?\\n\\n—\\xa0Да так, ничего.\\n\\n—\\xa0А-а…\\n'},\n",
       " {'generated_text': 'Частушки сектора газа.\\n\\n—\\xa0Что?\\n\\n—\\xa0Да так, ничего.\\n\\n—\\xa0А-а, ну'},\n",
       " {'generated_text': 'Частушки сектора газа.\\n\\n—\\xa0Что?\\n\\n—\\xa0Да так, ничего.\\n\\n—\\xa0А-а,\\xa0'},\n",
       " {'generated_text': 'Частушки сектора газа.\\n\\n—\\xa0Что?\\n\\n—\\xa0Да так, ничего.\\n\\n—\\xa0А, ну да,'}]"
      ]
     },
     "execution_count": 103,
     "metadata": {},
     "output_type": "execute_result"
    }
   ],
   "source": [
    "generator1(\n",
    "    \"Частушки сектора газа\",\n",
    "    max_length=30,  \n",
    "    num_beams=5,\n",
    "    temperature=0.0,\n",
    "    num_return_sequences=5,\n",
    ")"
   ]
  },
  {
   "cell_type": "code",
   "execution_count": 25,
   "metadata": {},
   "outputs": [],
   "source": [
    "from transformers import T5ForConditionalGeneration,T5Tokenizer"
   ]
  },
  {
   "cell_type": "code",
   "execution_count": null,
   "metadata": {},
   "outputs": [],
   "source": [
    "model=T5ForConditionalGeneration.from_pretrained('sberbank-ai/ruT5-large')"
   ]
  },
  {
   "cell_type": "code",
   "execution_count": 67,
   "metadata": {},
   "outputs": [
    {
     "data": {
      "text/plain": [
       "'<extra_id_0> себе<extra_id_1> ждать<extra_id_2> себе<extra_id_3> себе<extra_id_4> ждать<extra_id_5> себе<extra_id_6> ждать<extra_id_7> чем ждать<extra_id_8> себе<extra_id_9> ждать<extra_id_10>....</s>'"
      ]
     },
     "execution_count": 67,
     "metadata": {},
     "output_type": "execute_result"
    }
   ],
   "source": [
    "tokenizer=T5Tokenizer.from_pretrained('sberbank-ai/ruT5-large',)\n",
    "input_ids = tokenizer('Проще вскрыть на <extra_id_0> вены чем <extra_id_1> перемены.', return_tensors='pt').input_ids\n",
    "\n",
    "out_ids=model.generate(input_ids=input_ids,\n",
    "                        max_length=30,\n",
    "                        eos_token_id=tokenizer.eos_token_id, \n",
    "                        early_stopping=True)\n",
    "\n",
    "tokenizer.decode(out_ids[0][1:])\n",
    "\n",
    "#<extra_id_0> на бензин<extra_id_1> условии сохранения текущей ситуации<extra_id_2> ТАСС<extra_id_3>.</s>"
   ]
  }
 ],
 "metadata": {
  "kernelspec": {
   "display_name": ".venv",
   "language": "python",
   "name": "python3"
  },
  "language_info": {
   "codemirror_mode": {
    "name": "ipython",
    "version": 3
   },
   "file_extension": ".py",
   "mimetype": "text/x-python",
   "name": "python",
   "nbconvert_exporter": "python",
   "pygments_lexer": "ipython3",
   "version": "3.10.7"
  },
  "orig_nbformat": 4
 },
 "nbformat": 4,
 "nbformat_minor": 2
}
